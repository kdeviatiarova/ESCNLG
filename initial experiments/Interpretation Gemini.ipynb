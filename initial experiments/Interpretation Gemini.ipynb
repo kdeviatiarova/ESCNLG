{
 "cells": [
  {
   "cell_type": "code",
   "execution_count": null,
   "metadata": {
    "id": "9OEoeosRTv-5",
    "outputId": "cd6ae69b-185c-4996-e15e-a6c943405c88",
    "colab": {
     "base_uri": "https://localhost:8080/"
    }
   },
   "outputs": [
    {
     "output_type": "stream",
     "name": "stdout",
     "text": [
      "\u001B[?25l     \u001B[90m━━━━━━━━━━━━━━━━━━━━━━━━━━━━━━━━━━━━━━━━\u001B[0m \u001B[32m0.0/146.8 kB\u001B[0m \u001B[31m?\u001B[0m eta \u001B[36m-:--:--\u001B[0m\r\u001B[2K     \u001B[91m━━━━━━━━━━━━━━━━━━━━━━━━━━━━━━━━━━━━━━━\u001B[0m\u001B[90m╺\u001B[0m \u001B[32m143.4/146.8 kB\u001B[0m \u001B[31m4.1 MB/s\u001B[0m eta \u001B[36m0:00:01\u001B[0m\r\u001B[2K     \u001B[90m━━━━━━━━━━━━━━━━━━━━━━━━━━━━━━━━━━━━━━━━\u001B[0m \u001B[32m146.8/146.8 kB\u001B[0m \u001B[31m2.7 MB/s\u001B[0m eta \u001B[36m0:00:00\u001B[0m\n",
      "\u001B[?25h\u001B[?25l     \u001B[90m━━━━━━━━━━━━━━━━━━━━━━━━━━━━━━━━━━━━━━━━\u001B[0m \u001B[32m0.0/664.5 kB\u001B[0m \u001B[31m?\u001B[0m eta \u001B[36m-:--:--\u001B[0m\r\u001B[2K     \u001B[91m━━━━━━━━━━━━━━━━━━━━━━━━━━━━━━━━━━\u001B[0m\u001B[91m╸\u001B[0m\u001B[90m━━━━━\u001B[0m \u001B[32m573.4/664.5 kB\u001B[0m \u001B[31m17.1 MB/s\u001B[0m eta \u001B[36m0:00:01\u001B[0m\r\u001B[2K     \u001B[90m━━━━━━━━━━━━━━━━━━━━━━━━━━━━━━━━━━━━━━━━\u001B[0m \u001B[32m664.5/664.5 kB\u001B[0m \u001B[31m11.8 MB/s\u001B[0m eta \u001B[36m0:00:00\u001B[0m\n",
      "\u001B[?25h"
     ]
    }
   ],
   "source": [
    "!pip install -q -U google-generativeai"
   ]
  },
  {
   "cell_type": "code",
   "execution_count": 1,
   "metadata": {
    "id": "TS9l5igubpHO"
   },
   "outputs": [],
   "source": [
    "import pathlib\n",
    "import textwrap\n",
    "\n",
    "import google.generativeai as genai\n",
    "\n",
    "from IPython.display import display\n",
    "from IPython.display import Markdown\n",
    "\n",
    "\n",
    "def to_markdown(text):\n",
    "  text = text.replace('•', '  *')\n",
    "  return Markdown(textwrap.indent(text, '> ', predicate=lambda _: True))"
   ]
  },
  {
   "cell_type": "code",
   "source": [
    "import pandas as pd"
   ],
   "metadata": {
    "id": "K_zq9leiRXBP"
   },
   "execution_count": 2,
   "outputs": []
  },
  {
   "cell_type": "code",
   "execution_count": 3,
   "metadata": {
    "id": "d10c38a5c91f"
   },
   "outputs": [],
   "source": [
    "from google.colab import userdata"
   ]
  },
  {
   "cell_type": "markdown",
   "metadata": {
    "id": "VmSlTHXxb5pV"
   },
   "source": [
    "Once you have the API key, pass it to the SDK. You can do this in two ways:\n",
    "\n",
    "* Put the key in the `GOOGLE_API_KEY` environment variable (the SDK will automatically pick it up from there).\n",
    "* Pass the key to `genai.configure(api_key=...)`"
   ]
  },
  {
   "cell_type": "code",
   "execution_count": 4,
   "metadata": {
    "id": "ab9ASynfcIZn"
   },
   "outputs": [],
   "source": [
    "GOOGLE_API_KEY=userdata.get('GOOGLE_API_KEY')\n",
    "\n",
    "genai.configure(api_key=GOOGLE_API_KEY)"
   ]
  },
  {
   "cell_type": "code",
   "execution_count": 5,
   "metadata": {
    "id": "QvvWFy08e5c5",
    "outputId": "6dbd3cff-dd7c-42cd-87c2-b3094ae6ffb5",
    "colab": {
     "base_uri": "https://localhost:8080/",
     "height": 131
    }
   },
   "outputs": [
    {
     "output_type": "stream",
     "name": "stdout",
     "text": [
      "models/gemini-1.0-pro\n",
      "models/gemini-1.0-pro-001\n",
      "models/gemini-1.0-pro-latest\n",
      "models/gemini-1.0-pro-vision-latest\n",
      "models/gemini-1.5-pro-latest\n",
      "models/gemini-pro\n",
      "models/gemini-pro-vision\n"
     ]
    }
   ],
   "source": [
    "for m in genai.list_models():\n",
    "  if 'generateContent' in m.supported_generation_methods:\n",
    "    print(m.name)"
   ]
  },
  {
   "cell_type": "code",
   "execution_count": 6,
   "metadata": {
    "id": "2bcfnGEviwTI"
   },
   "outputs": [],
   "source": [
    "model = genai.GenerativeModel('gemini-pro')"
   ]
  },
  {
   "cell_type": "code",
   "source": [
    "section_mapping = {\n",
    "    \"S1\": \"Introduction\",\n",
    "    \"S2\": \"Lifecycle of AI Projects\",\n",
    "    \"S3\": \"Key Roles and Competencies of AI Team\",\n",
    "    \"S4\": \"Problem Definition and Model Quality Metrics\",\n",
    "    \"S5\": \"Exploratory Data Analysis\",\n",
    "    \"S6\": \"Data Preprocessing\",\n",
    "    \"S7\": \"Classical Machine Learning\",\n",
    "    \"S8\": \"Ensembles\",\n",
    "    \"S9\": \"Neural Networks\",\n",
    "    \"S10\": \"Reinforcement Learning\",\n",
    "    \"S11\": \"Automation and Acceleration of Computations\",\n",
    "    \"S12\": \"AI Development\"\n",
    "}"
   ],
   "metadata": {
    "id": "VsUT4v6yREg0"
   },
   "execution_count": 7,
   "outputs": []
  },
  {
   "cell_type": "code",
   "source": [
    "def get_performance_category(score):\n",
    "    percentage = score * 100\n",
    "    if percentage >= 70:\n",
    "        return \"good\"\n",
    "    elif percentage < 50:\n",
    "        return \"low\"\n",
    "    else:\n",
    "        return \"average\""
   ],
   "metadata": {
    "id": "x3TNnPDFRH7N"
   },
   "execution_count": 0,
   "outputs": []
  },
  {
   "cell_type": "code",
   "execution_count": 14,
   "outputs": [],
   "source": [
    "def generate_explanation(cluster_data, cluster_label):\n",
    "    sections_performance = {\n",
    "        \"good\": [],\n",
    "        \"average\": [],\n",
    "        \"low\": []\n",
    "    }\n",
    "\n",
    "    for section, score in cluster_data.items():\n",
    "        performance_category = get_performance_category(score)\n",
    "        sections_performance[performance_category].append(section_mapping[section])\n",
    "\n",
    "    prompt = [\n",
    "        f\"Cluster {cluster_label} performance breakdown:\",\n",
    "        \"Good performance in sections:\",\n",
    "        \"\\n\".join(sections_performance[\"good\"]),\n",
    "        \"Average performance in sections:\",\n",
    "        \"\\n\".join(sections_performance[\"average\"]),\n",
    "        \"Low performance in sections:\",\n",
    "        \"\\n\".join(sections_performance[\"low\"]),\n",
    "        \"Please provide explanations for the strengths and weaknesses of this \\\n",
    "        cluster's performance in Machine Learning Examination.\"\n",
    "    ]\n",
    "\n",
    "    print(f\"Performance Categories for Cluster {cluster_label}:\")\n",
    "    print(sections_performance)\n",
    "\n",
    "    response = model.generate_content(prompt)\n",
    "    return to_markdown(response.text)"
   ],
   "metadata": {
    "collapsed": false
   }
  },
  {
   "cell_type": "code",
   "source": [
    "csv_file = \"/content/labels_mean.csv\"\n",
    "\n",
    "df = pd.read_csv(csv_file, index_col=0)\n",
    "\n",
    "for index, row in df.iterrows():\n",
    "    cluster_label = index + 1\n",
    "    cluster_data = row.to_dict()\n",
    "    cluster_data = {key: value for key, value in cluster_data.items() if key.startswith('S')}\n",
    "\n",
    "    print(f\"Explanation for Cluster {cluster_label}:\")\n",
    "    explanation = generate_explanation(cluster_data, cluster_label)\n",
    "    display(explanation)"
   ],
   "metadata": {
    "id": "WAq6mW5NRPX3",
    "outputId": "9512382d-9377-4872-8687-a62e9e28a982",
    "colab": {
     "base_uri": "https://localhost:8080/",
     "height": 1000
    }
   },
   "execution_count": 15,
   "outputs": [
    {
     "output_type": "stream",
     "name": "stdout",
     "text": [
      "Explanation for Cluster 1:\n",
      "Performance Categories for Cluster 1:\n",
      "{'good': ['Introduction', 'Classical Machine Learning'], 'average': ['Lifecycle of AI Projects', 'Problem Definition and Model Quality Metrics', 'Exploratory Data Analysis', 'Data Preprocessing', 'Ensembles', 'Neural Networks'], 'low': ['Key Roles and Competencies of AI Team', 'Reinforcement Learning', 'Automation and Acceleration of Computations', 'AI Development']}\n"
     ]
    },
    {
     "output_type": "display_data",
     "data": {
      "text/plain": [
       "<IPython.core.display.Markdown object>"
      ],
      "text/markdown": "> **Strengths:**\n> \n> * **Good performance in Introduction:** This indicates a strong understanding of the fundamental concepts and principles of machine learning.\n> * **Average performance in Classical Machine Learning:** This suggests a solid foundation in traditional machine learning algorithms and techniques.\n> \n> **Weaknesses:**\n> \n> * **Low performance in Key Roles and Competencies of AI Team:** This indicates a need for improvement in understanding the various roles and responsibilities within an AI team, as well as the core competencies required for success.\n> * **Low performance in Reinforcement Learning:** This suggests a lack of knowledge or experience in this advanced machine learning technique.\n> * **Low performance in Automation and Acceleration of Computations:** This indicates a need for improvement in understanding how to optimize and accelerate machine learning computations.\n> * **Low performance in AI Development:** This suggests a need for further development of skills and knowledge related to the entire lifecycle of AI project development.\n> \n> **Possible Explanations for Weaknesses:**\n> \n> * Lack of exposure or experience in these specific areas.\n> * Difficulty in understanding or applying complex concepts.\n> * Insufficient preparation or studying for the examination.\n> * Test anxiety or other factors that may have affected performance."
     },
     "metadata": {}
    },
    {
     "output_type": "stream",
     "name": "stdout",
     "text": [
      "Explanation for Cluster 2:\n",
      "Performance Categories for Cluster 2:\n",
      "{'good': ['Introduction', 'Lifecycle of AI Projects', 'Problem Definition and Model Quality Metrics', 'Data Preprocessing', 'Classical Machine Learning', 'Ensembles', 'Neural Networks', 'Reinforcement Learning'], 'average': ['Exploratory Data Analysis', 'AI Development'], 'low': ['Key Roles and Competencies of AI Team', 'Automation and Acceleration of Computations']}\n"
     ]
    },
    {
     "output_type": "display_data",
     "data": {
      "text/plain": [
       "<IPython.core.display.Markdown object>"
      ],
      "text/markdown": "> **Strengths:**\n> \n> * **Introduction:** Provides a clear and comprehensive overview of the concepts and importance of machine learning.\n> * **Lifecycle of AI Projects:** Thoroughly outlines the key stages involved in developing and implementing AI projects.\n> * **Problem Definition and Model Quality Metrics:** Emphasizes the importance of clearly defining the problem and selecting appropriate metrics for model evaluation.\n> * **Data Preprocessing:** Covers the fundamental techniques for cleaning and preparing data for machine learning models.\n> * **Classical Machine Learning:** Presents the concepts and algorithms of classical machine learning methods, such as linear regression, logistic regression, and decision trees.\n> * **Ensembles:** Explains the power of combining multiple models to improve performance.\n> * **Neural Networks:** Provides a solid introduction to the architecture and training of neural networks.\n> * **Reinforcement Learning:** Introduces the principles of reinforcement learning and its applications.\n> \n> **Weaknesses:**\n> \n> * **Exploratory Data Analysis:** Lacks depth in providing practical guidance on data exploration and feature engineering.\n> * **AI Development:** Could benefit from more hands-on examples or case studies to illustrate the practical aspects of model development.\n> * **Key Roles and Competencies of AI Team:** Does not sufficiently cover the roles and responsibilities of key individuals involved in AI projects.\n> * **Automation and Acceleration of Computations:** Presents a general overview but could be enhanced with more specific examples or techniques for optimizing computational efficiency."
     },
     "metadata": {}
    },
    {
     "output_type": "stream",
     "name": "stdout",
     "text": [
      "Explanation for Cluster 3:\n",
      "Performance Categories for Cluster 3:\n",
      "{'good': [], 'average': ['Introduction'], 'low': ['Lifecycle of AI Projects', 'Key Roles and Competencies of AI Team', 'Problem Definition and Model Quality Metrics', 'Exploratory Data Analysis', 'Data Preprocessing', 'Classical Machine Learning', 'Ensembles', 'Neural Networks', 'Reinforcement Learning', 'Automation and Acceleration of Computations', 'AI Development']}\n"
     ]
    },
    {
     "output_type": "display_data",
     "data": {
      "text/plain": [
       "<IPython.core.display.Markdown object>"
      ],
      "text/markdown": "> **Strengths:**\n> \n> * **Good performance in Introduction:** This indicates a strong understanding of the fundamental concepts and importance of Machine Learning.\n> * **Average performance in Exploratory Data Analysis, Data Preprocessing, Classical Machine Learning, Ensembles, Neural Networks, Reinforcement Learning:** These sections cover the core technical aspects of Machine Learning modeling and implementation, suggesting a solid foundation in these areas.\n> \n> **Weaknesses:**\n> \n> * **Low performance in Lifecycle of AI Projects, Key Roles and Competencies of AI Team, Problem Definition and Model Quality Metrics, Automation and Acceleration of Computations, AI Development:** These sections focus on the broader aspects of AI project management, team dynamics, and the practical considerations of deploying and maintaining AI solutions. The low performance in these areas suggests a need for further development in project planning, teamwork, and practical implementation skills."
     },
     "metadata": {}
    },
    {
     "output_type": "stream",
     "name": "stdout",
     "text": [
      "Explanation for Cluster 4:\n",
      "Performance Categories for Cluster 4:\n",
      "{'good': ['Introduction', 'Neural Networks'], 'average': ['Lifecycle of AI Projects', 'Classical Machine Learning', 'Reinforcement Learning'], 'low': ['Key Roles and Competencies of AI Team', 'Problem Definition and Model Quality Metrics', 'Exploratory Data Analysis', 'Data Preprocessing', 'Ensembles', 'Automation and Acceleration of Computations', 'AI Development']}\n"
     ]
    },
    {
     "output_type": "display_data",
     "data": {
      "text/plain": [
       "<IPython.core.display.Markdown object>"
      ],
      "text/markdown": "> **Strengths:**\n> \n> * **Good performance in Introduction:** The cluster performed well in understanding the fundamental concepts and history of machine learning.\n> * **Neural Networks:** The cluster showed a strong grasp of neural network architectures, training algorithms, and applications.\n> \n> **Weaknesses:**\n> \n> * **Lifecycle of AI Projects:** The cluster had difficulty understanding the full lifecycle of AI projects, including project planning, data collection, model development, deployment, and monitoring.\n> * **Classical Machine Learning:** The cluster struggled with classical machine learning algorithms, such as linear regression, logistic regression, and decision trees.\n> * **Reinforcement Learning:** The cluster had limited understanding of reinforcement learning techniques and their applications.\n> * **Key Roles and Competencies of AI Team:** The cluster did not fully grasp the different roles and competencies required in an AI team.\n> * **Problem Definition and Model Quality Metrics:** The cluster had difficulty defining clear problem statements and evaluating the quality of machine learning models.\n> * **Exploratory Data Analysis:** The cluster was not proficient in performing exploratory data analysis to identify patterns and trends.\n> * **Data Preprocessing:** The cluster had challenges understanding common data preprocessing techniques, such as feature scaling and data cleaning.\n> * **Ensembles:** The cluster did not fully understand how to combine multiple machine learning models into an ensemble.\n> * **Automation and Acceleration of Computations:** The cluster had difficulty understanding techniques for automating and accelerating machine learning computations.\n> * **AI Development:** The cluster struggled to integrate the various aspects of machine learning into a comprehensive AI development process."
     },
     "metadata": {}
    }
   ]
  }
 ],
 "metadata": {
  "colab": {
   "provenance": []
  },
  "google": {
   "image_path": "/static/site-assets/images/docs/logo-python.svg",
   "keywords": [
    "examples",
    "gemini",
    "beginner",
    "googleai",
    "quickstart",
    "python",
    "text",
    "chat",
    "vision",
    "embed"
   ]
  },
  "kernelspec": {
   "display_name": "Python 3",
   "name": "python3"
  }
 },
 "nbformat": 4,
 "nbformat_minor": 0
}
