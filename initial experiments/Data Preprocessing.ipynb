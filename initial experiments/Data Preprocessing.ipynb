{
 "cells": [
  {
   "cell_type": "code",
   "execution_count": 8,
   "outputs": [],
   "source": [
    "import pandas as pd\n",
    "\n",
    "df1 = pd.read_excel('csv/DSF1.xlsx')\n",
    "df2 = pd.read_excel('csv/DSF2.xlsx')\n",
    "df3 = pd.read_excel('csv/DSF3.xlsx')\n",
    "\n",
    "col_list = ['id', 'IP', 'dt_completion', 't_used', 'mail', 'name']\n",
    "\n",
    "for i, col in enumerate(df2.columns):\n",
    "    if col not in col_list:\n",
    "        df2.rename(columns={col: f'column_{i+1}'}, inplace=True)\n",
    "\n",
    "for i, col in enumerate(df3.columns):\n",
    "    if col not in col_list:\n",
    "        df3.rename(columns={col: f'column_{i+1}'}, inplace=True)\n",
    "\n",
    "merged_df = pd.merge(df2, df3, on=list(df2.columns) + list(df3.columns),  how='outer')"
   ],
   "metadata": {
    "collapsed": false,
    "ExecuteTime": {
     "end_time": "2024-06-03T14:43:27.927119Z",
     "start_time": "2024-06-03T14:43:27.191704Z"
    }
   }
  },
  {
   "cell_type": "code",
   "execution_count": 9,
   "outputs": [],
   "source": [
    "columns_to_delete = [col for col in merged_df.columns if col.startswith('column_') and int(col.split('_')[1]) % 3 != 0]"
   ],
   "metadata": {
    "collapsed": false,
    "ExecuteTime": {
     "end_time": "2024-06-03T14:43:27.931920Z",
     "start_time": "2024-06-03T14:43:27.928052Z"
    }
   }
  },
  {
   "cell_type": "code",
   "execution_count": 10,
   "outputs": [],
   "source": [
    "merged_df = merged_df.drop(columns=columns_to_delete, axis=1)"
   ],
   "metadata": {
    "collapsed": false,
    "ExecuteTime": {
     "end_time": "2024-06-03T14:43:27.935424Z",
     "start_time": "2024-06-03T14:43:27.931800Z"
    }
   }
  },
  {
   "cell_type": "code",
   "execution_count": 11,
   "outputs": [],
   "source": [
    "cols_to_process = merged_df.columns[6:]\n",
    "\n",
    "merged_df[cols_to_process] = merged_df[cols_to_process].replace(regex={r'1 из 1': 1, '0 из 1': 0})\n",
    "merged_df[cols_to_process] = merged_df[cols_to_process].fillna(0).astype(int)\n",
    "\n",
    "df = merged_df.copy()"
   ],
   "metadata": {
    "collapsed": false,
    "ExecuteTime": {
     "end_time": "2024-06-03T14:43:28.644110Z",
     "start_time": "2024-06-03T14:43:28.590466Z"
    }
   }
  },
  {
   "cell_type": "code",
   "execution_count": 12,
   "outputs": [],
   "source": [
    "s_questions = [10, 9, 8, 9, 8, 8, 8, 9, 8, 8, 8, 4]\n",
    "\n",
    "start_col = 6\n",
    "end_col = start_col\n",
    "\n",
    "for i, num_questions in enumerate(s_questions):\n",
    "    end_col += num_questions\n",
    "    section_num = i + 1\n",
    "    section_name = 'S' + str(section_num)\n",
    "    section_cols = list(range(start_col, end_col))\n",
    "    df[str(section_name)] = df.iloc[:, section_cols].sum(axis=1)\n",
    "    start_col = end_col\n",
    "\n",
    "columns_to_del = [col for col in merged_df.columns if col.startswith('column_')]\n",
    "df = df.drop(columns=columns_to_del, axis=1)"
   ],
   "metadata": {
    "collapsed": false,
    "ExecuteTime": {
     "end_time": "2024-06-03T14:43:29.454240Z",
     "start_time": "2024-06-03T14:43:29.430008Z"
    }
   }
  },
  {
   "cell_type": "code",
   "execution_count": 13,
   "outputs": [],
   "source": [
    "df = pd.merge(df, df1, on=list(df.columns) + list(df1.columns),  how='outer')\n",
    "df['t_used'] = df['t_used'].astype(str)\n",
    "df['t_used'] = pd.to_timedelta(df['t_used'])\n",
    "df = df[df['t_used'] >= pd.Timedelta(minutes=20)]"
   ],
   "metadata": {
    "collapsed": false,
    "ExecuteTime": {
     "end_time": "2024-06-03T14:43:30.822732Z",
     "start_time": "2024-06-03T14:43:30.804504Z"
    }
   }
  },
  {
   "cell_type": "code",
   "execution_count": 14,
   "outputs": [],
   "source": [
    "df.sort_values('dt_completion', inplace=True)\n",
    "\n",
    "df = df.groupby('IP').first().reset_index()"
   ],
   "metadata": {
    "collapsed": false,
    "ExecuteTime": {
     "end_time": "2024-06-03T14:43:31.230693Z",
     "start_time": "2024-06-03T14:43:31.223602Z"
    }
   }
  },
  {
   "cell_type": "code",
   "execution_count": 15,
   "outputs": [],
   "source": [
    "df = df.groupby('mail').first().reset_index()"
   ],
   "metadata": {
    "collapsed": false,
    "ExecuteTime": {
     "end_time": "2024-06-03T14:43:31.640128Z",
     "start_time": "2024-06-03T14:43:31.637132Z"
    }
   }
  },
  {
   "cell_type": "code",
   "execution_count": 16,
   "outputs": [],
   "source": [
    "df = df.groupby('name').first().reset_index()"
   ],
   "metadata": {
    "collapsed": false,
    "ExecuteTime": {
     "end_time": "2024-06-03T14:43:33.570661Z",
     "start_time": "2024-06-03T14:43:33.556963Z"
    }
   }
  },
  {
   "cell_type": "code",
   "execution_count": 18,
   "outputs": [],
   "source": [
    "df.index.name = 'index'"
   ],
   "metadata": {
    "collapsed": false,
    "ExecuteTime": {
     "end_time": "2024-06-03T14:43:43.534433Z",
     "start_time": "2024-06-03T14:43:43.517082Z"
    }
   }
  },
  {
   "cell_type": "code",
   "execution_count": 19,
   "outputs": [],
   "source": [
    "private = df.copy(['name', 'mail', 'IP', 'dt_completion', 't_used'])\n",
    "df = df.drop(['name', 'mail', 'IP', 'dt_completion', 't_used'], axis=1)"
   ],
   "metadata": {
    "collapsed": false,
    "ExecuteTime": {
     "end_time": "2024-06-03T14:43:45.782666Z",
     "start_time": "2024-06-03T14:43:45.768593Z"
    }
   }
  },
  {
   "cell_type": "code",
   "execution_count": 20,
   "outputs": [
    {
     "data": {
      "text/plain": "              id  S1  S2  S3  S4  S5  S6  S7  S8  S9  S10  S11  S12\nindex                                                              \n0      170287232   2   3   0   1   2   2   1   2   2    1    1    1\n1      171738755   5   4   1   4   2   3   3   0   4    3    2    1\n2      123082919   3   3   2   0   1   3   3   2   2    2    1    2\n3      122846297   3   5   2   2   3   2   4   2   5    4    3    1\n4      123039223   4   1   0   0   0   0   0   0   0    0    0    0\n...          ...  ..  ..  ..  ..  ..  ..  ..  ..  ..  ...  ...  ...\n376    121722659   5   5   0   4   3   5   4   4   2    2    3    4\n377    122771403   4   1   3   3   4   3   3   4   5    3    2    1\n378    193988203   3   3   3   3   3   3   4   3   5    3    3    3\n379    171336480   5   5   1   5   5   3   4   4   5    4    2    2\n380    122901083   4   4   3   5   3   4   4   4   4    5    3    3\n\n[381 rows x 13 columns]",
      "text/html": "<div>\n<style scoped>\n    .dataframe tbody tr th:only-of-type {\n        vertical-align: middle;\n    }\n\n    .dataframe tbody tr th {\n        vertical-align: top;\n    }\n\n    .dataframe thead th {\n        text-align: right;\n    }\n</style>\n<table border=\"1\" class=\"dataframe\">\n  <thead>\n    <tr style=\"text-align: right;\">\n      <th></th>\n      <th>id</th>\n      <th>S1</th>\n      <th>S2</th>\n      <th>S3</th>\n      <th>S4</th>\n      <th>S5</th>\n      <th>S6</th>\n      <th>S7</th>\n      <th>S8</th>\n      <th>S9</th>\n      <th>S10</th>\n      <th>S11</th>\n      <th>S12</th>\n    </tr>\n    <tr>\n      <th>index</th>\n      <th></th>\n      <th></th>\n      <th></th>\n      <th></th>\n      <th></th>\n      <th></th>\n      <th></th>\n      <th></th>\n      <th></th>\n      <th></th>\n      <th></th>\n      <th></th>\n      <th></th>\n    </tr>\n  </thead>\n  <tbody>\n    <tr>\n      <th>0</th>\n      <td>170287232</td>\n      <td>2</td>\n      <td>3</td>\n      <td>0</td>\n      <td>1</td>\n      <td>2</td>\n      <td>2</td>\n      <td>1</td>\n      <td>2</td>\n      <td>2</td>\n      <td>1</td>\n      <td>1</td>\n      <td>1</td>\n    </tr>\n    <tr>\n      <th>1</th>\n      <td>171738755</td>\n      <td>5</td>\n      <td>4</td>\n      <td>1</td>\n      <td>4</td>\n      <td>2</td>\n      <td>3</td>\n      <td>3</td>\n      <td>0</td>\n      <td>4</td>\n      <td>3</td>\n      <td>2</td>\n      <td>1</td>\n    </tr>\n    <tr>\n      <th>2</th>\n      <td>123082919</td>\n      <td>3</td>\n      <td>3</td>\n      <td>2</td>\n      <td>0</td>\n      <td>1</td>\n      <td>3</td>\n      <td>3</td>\n      <td>2</td>\n      <td>2</td>\n      <td>2</td>\n      <td>1</td>\n      <td>2</td>\n    </tr>\n    <tr>\n      <th>3</th>\n      <td>122846297</td>\n      <td>3</td>\n      <td>5</td>\n      <td>2</td>\n      <td>2</td>\n      <td>3</td>\n      <td>2</td>\n      <td>4</td>\n      <td>2</td>\n      <td>5</td>\n      <td>4</td>\n      <td>3</td>\n      <td>1</td>\n    </tr>\n    <tr>\n      <th>4</th>\n      <td>123039223</td>\n      <td>4</td>\n      <td>1</td>\n      <td>0</td>\n      <td>0</td>\n      <td>0</td>\n      <td>0</td>\n      <td>0</td>\n      <td>0</td>\n      <td>0</td>\n      <td>0</td>\n      <td>0</td>\n      <td>0</td>\n    </tr>\n    <tr>\n      <th>...</th>\n      <td>...</td>\n      <td>...</td>\n      <td>...</td>\n      <td>...</td>\n      <td>...</td>\n      <td>...</td>\n      <td>...</td>\n      <td>...</td>\n      <td>...</td>\n      <td>...</td>\n      <td>...</td>\n      <td>...</td>\n      <td>...</td>\n    </tr>\n    <tr>\n      <th>376</th>\n      <td>121722659</td>\n      <td>5</td>\n      <td>5</td>\n      <td>0</td>\n      <td>4</td>\n      <td>3</td>\n      <td>5</td>\n      <td>4</td>\n      <td>4</td>\n      <td>2</td>\n      <td>2</td>\n      <td>3</td>\n      <td>4</td>\n    </tr>\n    <tr>\n      <th>377</th>\n      <td>122771403</td>\n      <td>4</td>\n      <td>1</td>\n      <td>3</td>\n      <td>3</td>\n      <td>4</td>\n      <td>3</td>\n      <td>3</td>\n      <td>4</td>\n      <td>5</td>\n      <td>3</td>\n      <td>2</td>\n      <td>1</td>\n    </tr>\n    <tr>\n      <th>378</th>\n      <td>193988203</td>\n      <td>3</td>\n      <td>3</td>\n      <td>3</td>\n      <td>3</td>\n      <td>3</td>\n      <td>3</td>\n      <td>4</td>\n      <td>3</td>\n      <td>5</td>\n      <td>3</td>\n      <td>3</td>\n      <td>3</td>\n    </tr>\n    <tr>\n      <th>379</th>\n      <td>171336480</td>\n      <td>5</td>\n      <td>5</td>\n      <td>1</td>\n      <td>5</td>\n      <td>5</td>\n      <td>3</td>\n      <td>4</td>\n      <td>4</td>\n      <td>5</td>\n      <td>4</td>\n      <td>2</td>\n      <td>2</td>\n    </tr>\n    <tr>\n      <th>380</th>\n      <td>122901083</td>\n      <td>4</td>\n      <td>4</td>\n      <td>3</td>\n      <td>5</td>\n      <td>3</td>\n      <td>4</td>\n      <td>4</td>\n      <td>4</td>\n      <td>4</td>\n      <td>5</td>\n      <td>3</td>\n      <td>3</td>\n    </tr>\n  </tbody>\n</table>\n<p>381 rows × 13 columns</p>\n</div>"
     },
     "execution_count": 20,
     "metadata": {},
     "output_type": "execute_result"
    }
   ],
   "source": [
    "df"
   ],
   "metadata": {
    "collapsed": false,
    "ExecuteTime": {
     "end_time": "2024-06-03T14:43:58.028810Z",
     "start_time": "2024-06-03T14:43:58.019067Z"
    }
   }
  }
 ],
 "metadata": {
  "kernelspec": {
   "display_name": "Python 3",
   "language": "python",
   "name": "python3"
  },
  "language_info": {
   "codemirror_mode": {
    "name": "ipython",
    "version": 2
   },
   "file_extension": ".py",
   "mimetype": "text/x-python",
   "name": "python",
   "nbconvert_exporter": "python",
   "pygments_lexer": "ipython2",
   "version": "2.7.6"
  }
 },
 "nbformat": 4,
 "nbformat_minor": 0
}
